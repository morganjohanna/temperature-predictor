{
 "cells": [
  {
   "cell_type": "code",
   "execution_count": 23,
   "metadata": {},
   "outputs": [],
   "source": [
    "import pandas as pd\n",
    "import matplotlib.pyplot as plt\n",
    "from sklearn.linear_model import LinearRegression\n",
    "from statsmodels.tsa.ar_model import AutoReg, ar_select_order\n",
    "from sklearn.model_selection import TimeSeriesSplit, cross_val_score"
   ]
  },
  {
   "cell_type": "code",
   "execution_count": 24,
   "metadata": {},
   "outputs": [],
   "source": [
    "df = pd.read_csv(\"./output/weather_remainder.csv\")"
   ]
  },
  {
   "cell_type": "code",
   "execution_count": 25,
   "metadata": {},
   "outputs": [],
   "source": [
    "df[\"lag1\"] = df[\"remainder\"].shift(1)\n",
    "df.dropna(inplace=True)"
   ]
  },
  {
   "cell_type": "code",
   "execution_count": 26,
   "metadata": {},
   "outputs": [],
   "source": [
    "y = df[\"remainder\"]\n",
    "X = df[[\"lag1\"]]\n",
    "\n",
    "m = LinearRegression()\n",
    "m.fit(X, y)\n",
    "\n",
    "df[\"prediction_ar1\"] = m.predict(X)"
   ]
  },
  {
   "cell_type": "code",
   "execution_count": 27,
   "metadata": {},
   "outputs": [
    {
     "name": "stderr",
     "output_type": "stream",
     "text": [
      "/home/johanna/anaconda3/lib/python3.10/site-packages/statsmodels/tsa/base/tsa_model.py:471: ValueWarning: An unsupported index was provided and will be ignored when e.g. forecasting.\n",
      "  self._init_dates(dates, freq)\n",
      "/home/johanna/anaconda3/lib/python3.10/site-packages/statsmodels/tsa/base/tsa_model.py:471: ValueWarning: An unsupported index was provided and will be ignored when e.g. forecasting.\n",
      "  self._init_dates(dates, freq)\n"
     ]
    },
    {
     "data": {
      "text/plain": [
       "{(1, 2, 3, 4): 241484.5918975638,\n",
       " (1, 2, 3, 4, 5): 241484.72232975363,\n",
       " (1, 2, 3): 241488.00639635717,\n",
       " (1, 2, 3, 4, 5, 6): 241494.2224320382,\n",
       " (1, 2, 3, 4, 5, 6, 7): 241502.7958718269,\n",
       " (1, 2, 3, 4, 5, 6, 7, 8): 241512.1970565771,\n",
       " (1, 2, 3, 4, 5, 6, 7, 8, 9): 241522.8075444805,\n",
       " (1, 2, 3, 4, 5, 6, 7, 8, 9, 10): 241533.61032517644,\n",
       " (1, 2, 3, 4, 5, 6, 7, 8, 9, 10, 11): 241544.10233756603,\n",
       " (1, 2, 3, 4, 5, 6, 7, 8, 9, 10, 11, 12): 241554.96791506378,\n",
       " (1, 2): 241741.28610047256,\n",
       " (1,): 242693.10746881203,\n",
       " 0: 298327.97592289234}"
      ]
     },
     "execution_count": 27,
     "metadata": {},
     "output_type": "execute_result"
    }
   ],
   "source": [
    "selected_order = ar_select_order(df[\"remainder\"], maxlag=12)\n",
    "selected_order.ar_lags\n",
    "selected_order.bic"
   ]
  },
  {
   "cell_type": "code",
   "execution_count": 28,
   "metadata": {},
   "outputs": [
    {
     "name": "stderr",
     "output_type": "stream",
     "text": [
      "/home/johanna/anaconda3/lib/python3.10/site-packages/statsmodels/tsa/base/tsa_model.py:471: ValueWarning: An unsupported index was provided and will be ignored when e.g. forecasting.\n",
      "  self._init_dates(dates, freq)\n"
     ]
    }
   ],
   "source": [
    "ar_model = AutoReg(endog=df[\"remainder\"], lags=4).fit()\n",
    "\n",
    "ar_model.predict().plot(label=\"statsmodels\")\n",
    "df[\"prediction_ar1\"].plot(label=\"ar1\")\n",
    "df[\"remainder\"].plot(label=\"remainder\")\n",
    "plt.legend()"
   ]
  },
  {
   "cell_type": "code",
   "execution_count": 32,
   "metadata": {},
   "outputs": [
    {
     "name": "stdout",
     "output_type": "stream",
     "text": [
      "             date  remainder      lag1  prediction_ar1\n",
      "1      1876-01-02   3.363653  3.063687        2.463508\n",
      "2      1876-01-03   1.163619  3.363653        2.704711\n",
      "3      1876-01-04  -4.936415  1.163619        0.935660\n",
      "4      1876-01-05  -8.936450 -4.936415       -3.969387\n",
      "5      1876-01-06  -6.836484 -8.936450       -7.185821\n",
      "...           ...        ...       ...             ...\n",
      "53522  2023-01-27   0.633698 -1.666268       -1.339856\n",
      "53523  2023-01-28  -0.866336  0.633698        0.509550\n",
      "53524  2023-01-29   0.133630 -0.866336       -0.696630\n",
      "53525  2023-01-30   2.833595  0.133630        0.107445\n",
      "53526  2023-01-31   3.333561  2.833595        2.278492\n",
      "\n",
      "[53526 rows x 4 columns]\n"
     ]
    }
   ],
   "source": [
    "print(df)"
   ]
  }
 ],
 "metadata": {
  "kernelspec": {
   "display_name": "base",
   "language": "python",
   "name": "python3"
  },
  "language_info": {
   "codemirror_mode": {
    "name": "ipython",
    "version": 3
   },
   "file_extension": ".py",
   "mimetype": "text/x-python",
   "name": "python",
   "nbconvert_exporter": "python",
   "pygments_lexer": "ipython3",
   "version": "3.10.9"
  },
  "orig_nbformat": 4
 },
 "nbformat": 4,
 "nbformat_minor": 2
}
